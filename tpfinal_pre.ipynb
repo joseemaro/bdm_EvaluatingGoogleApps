{
  "nbformat": 4,
  "nbformat_minor": 0,
  "metadata": {
    "colab": {
      "name": "tpfinal_pre.ipynb",
      "provenance": [],
      "collapsed_sections": [],
      "authorship_tag": "ABX9TyOyduS/UEStzC3mzYCgpI48",
      "include_colab_link": true
    },
    "kernelspec": {
      "name": "python3",
      "display_name": "Python 3"
    }
  },
  "cells": [
    {
      "cell_type": "markdown",
      "metadata": {
        "id": "view-in-github",
        "colab_type": "text"
      },
      "source": [
        "<a href=\"https://colab.research.google.com/github/joseemaro/bdm_datasets/blob/main/tpfinal_pre.ipynb\" target=\"_parent\"><img src=\"https://colab.research.google.com/assets/colab-badge.svg\" alt=\"Open In Colab\"/></a>"
      ]
    },
    {
      "cell_type": "markdown",
      "metadata": {
        "id": "H_QtWfCy8Iia"
      },
      "source": [
        "## SE IMPORTAN LAS LIBRERIAS Y LOS DATASETS."
      ]
    },
    {
      "cell_type": "code",
      "metadata": {
        "id": "SlVaMP9h743U"
      },
      "source": [
        "!wget https://raw.githubusercontent.com/joseemaro/bdm_datasets/main/googleplaystore.csv\r\n",
        "\r\n",
        "!wget https://raw.githubusercontent.com/joseemaro/bdm_datasets/main/googleplaystore_user_reviews.csv\r\n",
        "\r\n",
        "import numpy as np # algebra linear\r\n",
        "import pandas as pd # procesamiento de datos, CSV file \r\n",
        "import matplotlib.pyplot as plt\r\n",
        "%matplotlib inline\r\n",
        "import seaborn as sns\r\n",
        "import plotly.offline as py\r\n",
        "py.init_notebook_mode(connected=True)\r\n",
        "import plotly.graph_objs as go\r\n",
        "import warnings\r\n",
        "warnings.filterwarnings('ignore')\r\n",
        "from pylab import rcParams\r\n",
        "# figure size in inches\r\n",
        "%matplotlib inline\r\n",
        "plt.style.use('seaborn-white')\r\n",
        "from sklearn import metrics"
      ],
      "execution_count": null,
      "outputs": []
    },
    {
      "cell_type": "markdown",
      "metadata": {
        "id": "7zzQWXpi8VQG"
      },
      "source": [
        "## SE LEE EL DATASET CON LOS DATOS DE LAS APLICACIONES"
      ]
    },
    {
      "cell_type": "code",
      "metadata": {
        "id": "m0e8DNX_8aa1"
      },
      "source": [
        "# Lee el archivo\r\n",
        "data = pd.read_csv(\"googleplaystore.csv\", encoding = \"utf-8\") "
      ],
      "execution_count": 2,
      "outputs": []
    },
    {
      "cell_type": "markdown",
      "metadata": {
        "id": "OxbFcXd28mCX"
      },
      "source": [
        "# PREPROCESAMIENTO DE LOS DATOS"
      ]
    },
    {
      "cell_type": "code",
      "metadata": {
        "id": "Vx0K_Go58rP2"
      },
      "source": [
        "#se verifica si hay nan de los registros\r\n",
        "data.isna().sum()"
      ],
      "execution_count": null,
      "outputs": []
    },
    {
      "cell_type": "markdown",
      "metadata": {
        "id": "b7Bag8Bi9Chi"
      },
      "source": [
        "Se observa que el campo rating tiene una gran cantidad de faltantes, mientras que los campos type,content rating, current ver, y android ver tienen pocos faltantes."
      ]
    },
    {
      "cell_type": "code",
      "metadata": {
        "id": "A8t7HFLt9Swr"
      },
      "source": [
        "#se remplaza los nan de rating por la media debido a que son muchos registros\r\n",
        "data['Rating'].fillna((data['Rating'].mean()), inplace=True)\r\n",
        "\r\n",
        "data.isna().sum()"
      ],
      "execution_count": null,
      "outputs": []
    },
    {
      "cell_type": "code",
      "metadata": {
        "id": "6xGRvNDN9jnO"
      },
      "source": [
        "#el resto de los registros con nan al ser una cantidad minima se borran\r\n",
        "df1 = data.dropna()\r\n",
        "\r\n",
        "df1.isna().sum()"
      ],
      "execution_count": null,
      "outputs": []
    },
    {
      "cell_type": "code",
      "metadata": {
        "id": "jKkHo5NV9pND"
      },
      "source": [
        "#SE VERIFICA SI HAY REGISTROS DUPLICADOS\r\n",
        "df1[df1.duplicated(['App'])]"
      ],
      "execution_count": null,
      "outputs": []
    },
    {
      "cell_type": "code",
      "metadata": {
        "id": "6_J3_j8V9z4y"
      },
      "source": [
        "#se eliminan los duplicados basandose en el nombre de la app\r\n",
        "df2 = df1.drop_duplicates(keep='last',subset=['App'])"
      ],
      "execution_count": 7,
      "outputs": []
    },
    {
      "cell_type": "code",
      "metadata": {
        "id": "h8zDWqpn-br8"
      },
      "source": [
        "#campo installs\r\n",
        "#se limpian los caracteres para pasar el campo a entero\r\n",
        "df2.Installs = df2.Installs.str.replace('+' , '')\r\n",
        "df2.Installs = df2.Installs.str.replace(',' , '')"
      ],
      "execution_count": 8,
      "outputs": []
    },
    {
      "cell_type": "code",
      "metadata": {
        "id": "kF80hTzT-4Mj"
      },
      "source": [
        "#se convierte el campo  installs a int\r\n",
        "df2.Installs = df2.Installs.astype('float').astype('int')\r\n",
        "df2['Installs'].unique()"
      ],
      "execution_count": null,
      "outputs": []
    },
    {
      "cell_type": "code",
      "metadata": {
        "id": "-YKUUc82_M-c"
      },
      "source": [
        "#se convierte el campo price a float\r\n",
        "df2['Price'] = df2['Price'].apply(lambda x: float(x.replace(\"$\",\"\")))\r\n",
        "df2['Price'].unique()"
      ],
      "execution_count": null,
      "outputs": []
    },
    {
      "cell_type": "code",
      "metadata": {
        "id": "ImPdCWHT_dkO"
      },
      "source": [
        "#se convierte el conteo de reviews a int\r\n",
        "df2['Reviews']= df2['Reviews'].apply(lambda x: int(x))\r\n",
        "df2['Reviews'].unique()"
      ],
      "execution_count": null,
      "outputs": []
    },
    {
      "cell_type": "code",
      "metadata": {
        "id": "z-GPqZ-LAJrW"
      },
      "source": [
        "#vamos a remplazar el varies with device del campo size por nan\r\n",
        "df2['Size'].replace('Varies with device',np.nan,inplace=True)\r\n",
        "#se convierte size a float\r\n",
        "df2['Size']=df2['Size'].str.replace('M','e+6').str.replace('k','e+3').str.replace('Varies with device','0').astype('float')\r\n",
        "df2['Size'].unique()"
      ],
      "execution_count": null,
      "outputs": []
    },
    {
      "cell_type": "markdown",
      "metadata": {
        "id": "ziR-s-L2BHY0"
      },
      "source": [
        "# VISUALIZACION DE DATOS\r\n"
      ]
    },
    {
      "cell_type": "code",
      "metadata": {
        "id": "taUZG4GlBS27"
      },
      "source": [
        "#Numero de aplicaciones por categoria\r\n",
        "\r\n",
        "fig = plt.figure(figsize=(16,8)) \r\n",
        "df2.groupby('Category').count()[\"App\"].sort_values(ascending=False).plot(kind='bar',title='Numero de apps/Categoria', fontsize=10)\r\n",
        "plt.ylabel('Cantidad') "
      ],
      "execution_count": null,
      "outputs": []
    },
    {
      "cell_type": "code",
      "metadata": {
        "colab": {
          "base_uri": "https://localhost:8080/",
          "height": 460
        },
        "id": "IcrO8o9MCOzf",
        "outputId": "5aba99b1-2bbc-4691-d603-aa912ddbc156"
      },
      "source": [
        "#apps con 1 billon de descargas\r\n",
        "\r\n",
        "dfa = df2.groupby(['Category' ,'App'])['Installs'].sum().reset_index()\r\n",
        "\r\n",
        "dfa = dfa.sort_values('Installs', ascending = False)\r\n",
        "\r\n",
        "dftop = dfa[dfa.Installs == 1000000000 ]\r\n",
        "\r\n",
        "\r\n",
        "dftop.style.set_properties(**{'background-color': 'pink',\r\n",
        "                            'color': 'black',\r\n",
        "                            'border-color': 'black'})"
      ],
      "execution_count": 15,
      "outputs": [
        {
          "output_type": "execute_result",
          "data": {
            "text/html": [
              "<style  type=\"text/css\" >\n",
              "#T_f4eb7416_7b7c_11eb_a149_0242ac1c0002row0_col0,#T_f4eb7416_7b7c_11eb_a149_0242ac1c0002row0_col1,#T_f4eb7416_7b7c_11eb_a149_0242ac1c0002row0_col2,#T_f4eb7416_7b7c_11eb_a149_0242ac1c0002row1_col0,#T_f4eb7416_7b7c_11eb_a149_0242ac1c0002row1_col1,#T_f4eb7416_7b7c_11eb_a149_0242ac1c0002row1_col2,#T_f4eb7416_7b7c_11eb_a149_0242ac1c0002row2_col0,#T_f4eb7416_7b7c_11eb_a149_0242ac1c0002row2_col1,#T_f4eb7416_7b7c_11eb_a149_0242ac1c0002row2_col2,#T_f4eb7416_7b7c_11eb_a149_0242ac1c0002row3_col0,#T_f4eb7416_7b7c_11eb_a149_0242ac1c0002row3_col1,#T_f4eb7416_7b7c_11eb_a149_0242ac1c0002row3_col2,#T_f4eb7416_7b7c_11eb_a149_0242ac1c0002row4_col0,#T_f4eb7416_7b7c_11eb_a149_0242ac1c0002row4_col1,#T_f4eb7416_7b7c_11eb_a149_0242ac1c0002row4_col2,#T_f4eb7416_7b7c_11eb_a149_0242ac1c0002row5_col0,#T_f4eb7416_7b7c_11eb_a149_0242ac1c0002row5_col1,#T_f4eb7416_7b7c_11eb_a149_0242ac1c0002row5_col2,#T_f4eb7416_7b7c_11eb_a149_0242ac1c0002row6_col0,#T_f4eb7416_7b7c_11eb_a149_0242ac1c0002row6_col1,#T_f4eb7416_7b7c_11eb_a149_0242ac1c0002row6_col2,#T_f4eb7416_7b7c_11eb_a149_0242ac1c0002row7_col0,#T_f4eb7416_7b7c_11eb_a149_0242ac1c0002row7_col1,#T_f4eb7416_7b7c_11eb_a149_0242ac1c0002row7_col2,#T_f4eb7416_7b7c_11eb_a149_0242ac1c0002row8_col0,#T_f4eb7416_7b7c_11eb_a149_0242ac1c0002row8_col1,#T_f4eb7416_7b7c_11eb_a149_0242ac1c0002row8_col2,#T_f4eb7416_7b7c_11eb_a149_0242ac1c0002row9_col0,#T_f4eb7416_7b7c_11eb_a149_0242ac1c0002row9_col1,#T_f4eb7416_7b7c_11eb_a149_0242ac1c0002row9_col2,#T_f4eb7416_7b7c_11eb_a149_0242ac1c0002row10_col0,#T_f4eb7416_7b7c_11eb_a149_0242ac1c0002row10_col1,#T_f4eb7416_7b7c_11eb_a149_0242ac1c0002row10_col2,#T_f4eb7416_7b7c_11eb_a149_0242ac1c0002row11_col0,#T_f4eb7416_7b7c_11eb_a149_0242ac1c0002row11_col1,#T_f4eb7416_7b7c_11eb_a149_0242ac1c0002row11_col2,#T_f4eb7416_7b7c_11eb_a149_0242ac1c0002row12_col0,#T_f4eb7416_7b7c_11eb_a149_0242ac1c0002row12_col1,#T_f4eb7416_7b7c_11eb_a149_0242ac1c0002row12_col2,#T_f4eb7416_7b7c_11eb_a149_0242ac1c0002row13_col0,#T_f4eb7416_7b7c_11eb_a149_0242ac1c0002row13_col1,#T_f4eb7416_7b7c_11eb_a149_0242ac1c0002row13_col2,#T_f4eb7416_7b7c_11eb_a149_0242ac1c0002row14_col0,#T_f4eb7416_7b7c_11eb_a149_0242ac1c0002row14_col1,#T_f4eb7416_7b7c_11eb_a149_0242ac1c0002row14_col2,#T_f4eb7416_7b7c_11eb_a149_0242ac1c0002row15_col0,#T_f4eb7416_7b7c_11eb_a149_0242ac1c0002row15_col1,#T_f4eb7416_7b7c_11eb_a149_0242ac1c0002row15_col2,#T_f4eb7416_7b7c_11eb_a149_0242ac1c0002row16_col0,#T_f4eb7416_7b7c_11eb_a149_0242ac1c0002row16_col1,#T_f4eb7416_7b7c_11eb_a149_0242ac1c0002row16_col2,#T_f4eb7416_7b7c_11eb_a149_0242ac1c0002row17_col0,#T_f4eb7416_7b7c_11eb_a149_0242ac1c0002row17_col1,#T_f4eb7416_7b7c_11eb_a149_0242ac1c0002row17_col2,#T_f4eb7416_7b7c_11eb_a149_0242ac1c0002row18_col0,#T_f4eb7416_7b7c_11eb_a149_0242ac1c0002row18_col1,#T_f4eb7416_7b7c_11eb_a149_0242ac1c0002row18_col2,#T_f4eb7416_7b7c_11eb_a149_0242ac1c0002row19_col0,#T_f4eb7416_7b7c_11eb_a149_0242ac1c0002row19_col1,#T_f4eb7416_7b7c_11eb_a149_0242ac1c0002row19_col2{\n",
              "            background-color:  pink;\n",
              "            color:  black;\n",
              "            border-color:  black;\n",
              "        }</style><table id=\"T_f4eb7416_7b7c_11eb_a149_0242ac1c0002\" ><thead>    <tr>        <th class=\"blank level0\" ></th>        <th class=\"col_heading level0 col0\" >Category</th>        <th class=\"col_heading level0 col1\" >App</th>        <th class=\"col_heading level0 col2\" >Installs</th>    </tr></thead><tbody>\n",
              "                <tr>\n",
              "                        <th id=\"T_f4eb7416_7b7c_11eb_a149_0242ac1c0002level0_row0\" class=\"row_heading level0 row0\" >337</th>\n",
              "                        <td id=\"T_f4eb7416_7b7c_11eb_a149_0242ac1c0002row0_col0\" class=\"data row0 col0\" >BOOKS_AND_REFERENCE</td>\n",
              "                        <td id=\"T_f4eb7416_7b7c_11eb_a149_0242ac1c0002row0_col1\" class=\"data row0 col1\" >Google Play Books</td>\n",
              "                        <td id=\"T_f4eb7416_7b7c_11eb_a149_0242ac1c0002row0_col2\" class=\"data row0 col2\" >1000000000</td>\n",
              "            </tr>\n",
              "            <tr>\n",
              "                        <th id=\"T_f4eb7416_7b7c_11eb_a149_0242ac1c0002level0_row1\" class=\"row_heading level0 row1\" >6377</th>\n",
              "                        <td id=\"T_f4eb7416_7b7c_11eb_a149_0242ac1c0002row1_col0\" class=\"data row1 col0\" >NEWS_AND_MAGAZINES</td>\n",
              "                        <td id=\"T_f4eb7416_7b7c_11eb_a149_0242ac1c0002row1_col1\" class=\"data row1 col1\" >Google News</td>\n",
              "                        <td id=\"T_f4eb7416_7b7c_11eb_a149_0242ac1c0002row1_col2\" class=\"data row1 col2\" >1000000000</td>\n",
              "            </tr>\n",
              "            <tr>\n",
              "                        <th id=\"T_f4eb7416_7b7c_11eb_a149_0242ac1c0002level0_row2\" class=\"row_heading level0 row2\" >8827</th>\n",
              "                        <td id=\"T_f4eb7416_7b7c_11eb_a149_0242ac1c0002row2_col0\" class=\"data row2 col0\" >TOOLS</td>\n",
              "                        <td id=\"T_f4eb7416_7b7c_11eb_a149_0242ac1c0002row2_col1\" class=\"data row2 col1\" >Google</td>\n",
              "                        <td id=\"T_f4eb7416_7b7c_11eb_a149_0242ac1c0002row2_col2\" class=\"data row2 col2\" >1000000000</td>\n",
              "            </tr>\n",
              "            <tr>\n",
              "                        <th id=\"T_f4eb7416_7b7c_11eb_a149_0242ac1c0002level0_row3\" class=\"row_heading level0 row3\" >4765</th>\n",
              "                        <td id=\"T_f4eb7416_7b7c_11eb_a149_0242ac1c0002row3_col0\" class=\"data row3 col0\" >GAME</td>\n",
              "                        <td id=\"T_f4eb7416_7b7c_11eb_a149_0242ac1c0002row3_col1\" class=\"data row3 col1\" >Subway Surfers</td>\n",
              "                        <td id=\"T_f4eb7416_7b7c_11eb_a149_0242ac1c0002row3_col2\" class=\"data row3 col2\" >1000000000</td>\n",
              "            </tr>\n",
              "            <tr>\n",
              "                        <th id=\"T_f4eb7416_7b7c_11eb_a149_0242ac1c0002level0_row4\" class=\"row_heading level0 row4\" >1059</th>\n",
              "                        <td id=\"T_f4eb7416_7b7c_11eb_a149_0242ac1c0002row4_col0\" class=\"data row4 col0\" >COMMUNICATION</td>\n",
              "                        <td id=\"T_f4eb7416_7b7c_11eb_a149_0242ac1c0002row4_col1\" class=\"data row4 col1\" >Hangouts</td>\n",
              "                        <td id=\"T_f4eb7416_7b7c_11eb_a149_0242ac1c0002row4_col2\" class=\"data row4 col2\" >1000000000</td>\n",
              "            </tr>\n",
              "            <tr>\n",
              "                        <th id=\"T_f4eb7416_7b7c_11eb_a149_0242ac1c0002level0_row5\" class=\"row_heading level0 row5\" >7414</th>\n",
              "                        <td id=\"T_f4eb7416_7b7c_11eb_a149_0242ac1c0002row5_col0\" class=\"data row5 col0\" >PRODUCTIVITY</td>\n",
              "                        <td id=\"T_f4eb7416_7b7c_11eb_a149_0242ac1c0002row5_col1\" class=\"data row5 col1\" >Google Drive</td>\n",
              "                        <td id=\"T_f4eb7416_7b7c_11eb_a149_0242ac1c0002row5_col2\" class=\"data row5 col2\" >1000000000</td>\n",
              "            </tr>\n",
              "            <tr>\n",
              "                        <th id=\"T_f4eb7416_7b7c_11eb_a149_0242ac1c0002level0_row6\" class=\"row_heading level0 row6\" >1053</th>\n",
              "                        <td id=\"T_f4eb7416_7b7c_11eb_a149_0242ac1c0002row6_col0\" class=\"data row6 col0\" >COMMUNICATION</td>\n",
              "                        <td id=\"T_f4eb7416_7b7c_11eb_a149_0242ac1c0002row6_col1\" class=\"data row6 col1\" >Google Chrome: Fast & Secure</td>\n",
              "                        <td id=\"T_f4eb7416_7b7c_11eb_a149_0242ac1c0002row6_col2\" class=\"data row6 col2\" >1000000000</td>\n",
              "            </tr>\n",
              "            <tr>\n",
              "                        <th id=\"T_f4eb7416_7b7c_11eb_a149_0242ac1c0002level0_row7\" class=\"row_heading level0 row7\" >9331</th>\n",
              "                        <td id=\"T_f4eb7416_7b7c_11eb_a149_0242ac1c0002row7_col0\" class=\"data row7 col0\" >TRAVEL_AND_LOCAL</td>\n",
              "                        <td id=\"T_f4eb7416_7b7c_11eb_a149_0242ac1c0002row7_col1\" class=\"data row7 col1\" >Maps - Navigate & Explore</td>\n",
              "                        <td id=\"T_f4eb7416_7b7c_11eb_a149_0242ac1c0002row7_col2\" class=\"data row7 col2\" >1000000000</td>\n",
              "            </tr>\n",
              "            <tr>\n",
              "                        <th id=\"T_f4eb7416_7b7c_11eb_a149_0242ac1c0002level0_row8\" class=\"row_heading level0 row8\" >1176</th>\n",
              "                        <td id=\"T_f4eb7416_7b7c_11eb_a149_0242ac1c0002row8_col0\" class=\"data row8 col0\" >COMMUNICATION</td>\n",
              "                        <td id=\"T_f4eb7416_7b7c_11eb_a149_0242ac1c0002row8_col1\" class=\"data row8 col1\" >WhatsApp Messenger</td>\n",
              "                        <td id=\"T_f4eb7416_7b7c_11eb_a149_0242ac1c0002row8_col2\" class=\"data row8 col2\" >1000000000</td>\n",
              "            </tr>\n",
              "            <tr>\n",
              "                        <th id=\"T_f4eb7416_7b7c_11eb_a149_0242ac1c0002level0_row9\" class=\"row_heading level0 row9\" >2645</th>\n",
              "                        <td id=\"T_f4eb7416_7b7c_11eb_a149_0242ac1c0002row9_col0\" class=\"data row9 col0\" >FAMILY</td>\n",
              "                        <td id=\"T_f4eb7416_7b7c_11eb_a149_0242ac1c0002row9_col1\" class=\"data row9 col1\" >Google Play Games</td>\n",
              "                        <td id=\"T_f4eb7416_7b7c_11eb_a149_0242ac1c0002row9_col2\" class=\"data row9 col2\" >1000000000</td>\n",
              "            </tr>\n",
              "            <tr>\n",
              "                        <th id=\"T_f4eb7416_7b7c_11eb_a149_0242ac1c0002level0_row10\" class=\"row_heading level0 row10\" >1050</th>\n",
              "                        <td id=\"T_f4eb7416_7b7c_11eb_a149_0242ac1c0002row10_col0\" class=\"data row10 col0\" >COMMUNICATION</td>\n",
              "                        <td id=\"T_f4eb7416_7b7c_11eb_a149_0242ac1c0002row10_col1\" class=\"data row10 col1\" >Gmail</td>\n",
              "                        <td id=\"T_f4eb7416_7b7c_11eb_a149_0242ac1c0002row10_col2\" class=\"data row10 col2\" >1000000000</td>\n",
              "            </tr>\n",
              "            <tr>\n",
              "                        <th id=\"T_f4eb7416_7b7c_11eb_a149_0242ac1c0002level0_row11\" class=\"row_heading level0 row11\" >7870</th>\n",
              "                        <td id=\"T_f4eb7416_7b7c_11eb_a149_0242ac1c0002row11_col0\" class=\"data row11 col0\" >SOCIAL</td>\n",
              "                        <td id=\"T_f4eb7416_7b7c_11eb_a149_0242ac1c0002row11_col1\" class=\"data row11 col1\" >Facebook</td>\n",
              "                        <td id=\"T_f4eb7416_7b7c_11eb_a149_0242ac1c0002row11_col2\" class=\"data row11 col2\" >1000000000</td>\n",
              "            </tr>\n",
              "            <tr>\n",
              "                        <th id=\"T_f4eb7416_7b7c_11eb_a149_0242ac1c0002level0_row12\" class=\"row_heading level0 row12\" >9484</th>\n",
              "                        <td id=\"T_f4eb7416_7b7c_11eb_a149_0242ac1c0002row12_col0\" class=\"data row12 col0\" >VIDEO_PLAYERS</td>\n",
              "                        <td id=\"T_f4eb7416_7b7c_11eb_a149_0242ac1c0002row12_col1\" class=\"data row12 col1\" >Google Play Movies & TV</td>\n",
              "                        <td id=\"T_f4eb7416_7b7c_11eb_a149_0242ac1c0002row12_col2\" class=\"data row12 col2\" >1000000000</td>\n",
              "            </tr>\n",
              "            <tr>\n",
              "                        <th id=\"T_f4eb7416_7b7c_11eb_a149_0242ac1c0002level0_row13\" class=\"row_heading level0 row13\" >7067</th>\n",
              "                        <td id=\"T_f4eb7416_7b7c_11eb_a149_0242ac1c0002row13_col0\" class=\"data row13 col0\" >PHOTOGRAPHY</td>\n",
              "                        <td id=\"T_f4eb7416_7b7c_11eb_a149_0242ac1c0002row13_col1\" class=\"data row13 col1\" >Google Photos</td>\n",
              "                        <td id=\"T_f4eb7416_7b7c_11eb_a149_0242ac1c0002row13_col2\" class=\"data row13 col2\" >1000000000</td>\n",
              "            </tr>\n",
              "            <tr>\n",
              "                        <th id=\"T_f4eb7416_7b7c_11eb_a149_0242ac1c0002level0_row14\" class=\"row_heading level0 row14\" >9555</th>\n",
              "                        <td id=\"T_f4eb7416_7b7c_11eb_a149_0242ac1c0002row14_col0\" class=\"data row14 col0\" >VIDEO_PLAYERS</td>\n",
              "                        <td id=\"T_f4eb7416_7b7c_11eb_a149_0242ac1c0002row14_col1\" class=\"data row14 col1\" >YouTube</td>\n",
              "                        <td id=\"T_f4eb7416_7b7c_11eb_a149_0242ac1c0002row14_col2\" class=\"data row14 col2\" >1000000000</td>\n",
              "            </tr>\n",
              "            <tr>\n",
              "                        <th id=\"T_f4eb7416_7b7c_11eb_a149_0242ac1c0002level0_row15\" class=\"row_heading level0 row15\" >1094</th>\n",
              "                        <td id=\"T_f4eb7416_7b7c_11eb_a149_0242ac1c0002row15_col0\" class=\"data row15 col0\" >COMMUNICATION</td>\n",
              "                        <td id=\"T_f4eb7416_7b7c_11eb_a149_0242ac1c0002row15_col1\" class=\"data row15 col1\" >Messenger – Text and Video Chat for Free</td>\n",
              "                        <td id=\"T_f4eb7416_7b7c_11eb_a149_0242ac1c0002row15_col2\" class=\"data row15 col2\" >1000000000</td>\n",
              "            </tr>\n",
              "            <tr>\n",
              "                        <th id=\"T_f4eb7416_7b7c_11eb_a149_0242ac1c0002level0_row16\" class=\"row_heading level0 row16\" >7895</th>\n",
              "                        <td id=\"T_f4eb7416_7b7c_11eb_a149_0242ac1c0002row16_col0\" class=\"data row16 col0\" >SOCIAL</td>\n",
              "                        <td id=\"T_f4eb7416_7b7c_11eb_a149_0242ac1c0002row16_col1\" class=\"data row16 col1\" >Google+</td>\n",
              "                        <td id=\"T_f4eb7416_7b7c_11eb_a149_0242ac1c0002row16_col2\" class=\"data row16 col2\" >1000000000</td>\n",
              "            </tr>\n",
              "            <tr>\n",
              "                        <th id=\"T_f4eb7416_7b7c_11eb_a149_0242ac1c0002level0_row17\" class=\"row_heading level0 row17\" >7906</th>\n",
              "                        <td id=\"T_f4eb7416_7b7c_11eb_a149_0242ac1c0002row17_col0\" class=\"data row17 col0\" >SOCIAL</td>\n",
              "                        <td id=\"T_f4eb7416_7b7c_11eb_a149_0242ac1c0002row17_col1\" class=\"data row17 col1\" >Instagram</td>\n",
              "                        <td id=\"T_f4eb7416_7b7c_11eb_a149_0242ac1c0002row17_col2\" class=\"data row17 col2\" >1000000000</td>\n",
              "            </tr>\n",
              "            <tr>\n",
              "                        <th id=\"T_f4eb7416_7b7c_11eb_a149_0242ac1c0002level0_row18\" class=\"row_heading level0 row18\" >1140</th>\n",
              "                        <td id=\"T_f4eb7416_7b7c_11eb_a149_0242ac1c0002row18_col0\" class=\"data row18 col0\" >COMMUNICATION</td>\n",
              "                        <td id=\"T_f4eb7416_7b7c_11eb_a149_0242ac1c0002row18_col1\" class=\"data row18 col1\" >Skype - free IM & video calls</td>\n",
              "                        <td id=\"T_f4eb7416_7b7c_11eb_a149_0242ac1c0002row18_col2\" class=\"data row18 col2\" >1000000000</td>\n",
              "            </tr>\n",
              "            <tr>\n",
              "                        <th id=\"T_f4eb7416_7b7c_11eb_a149_0242ac1c0002level0_row19\" class=\"row_heading level0 row19\" >9300</th>\n",
              "                        <td id=\"T_f4eb7416_7b7c_11eb_a149_0242ac1c0002row19_col0\" class=\"data row19 col0\" >TRAVEL_AND_LOCAL</td>\n",
              "                        <td id=\"T_f4eb7416_7b7c_11eb_a149_0242ac1c0002row19_col1\" class=\"data row19 col1\" >Google Street View</td>\n",
              "                        <td id=\"T_f4eb7416_7b7c_11eb_a149_0242ac1c0002row19_col2\" class=\"data row19 col2\" >1000000000</td>\n",
              "            </tr>\n",
              "    </tbody></table>"
            ],
            "text/plain": [
              "<pandas.io.formats.style.Styler at 0x7f691cb128d0>"
            ]
          },
          "metadata": {
            "tags": []
          },
          "execution_count": 15
        }
      ]
    },
    {
      "cell_type": "markdown",
      "metadata": {
        "id": "tgB8Y0uHC78F"
      },
      "source": [
        "La lista de apps que tienen mas de 1 billon de descargas muestra a las siguientes aplicaciones:\r\n",
        "Google ,Google Drive, Google Chrome Fast Secure , Google+ ,Google Photos ,Google Play Games ,Google Play Books ,Google News ,Hangouts\r\n",
        "\r\n",
        "Google ,Google Drive, Google Chrome Fast Secure , Google+ ,Google Photos ,Google Play Games ,Google Play Books ,Google News ,Hangouts\r\n",
        "\r\n",
        "Gmail ,Google Street View ,Google Play Movies & TV ,Maps - Navigate & Explore , YouTube (Apps pertenecientes a Google)\r\n",
        "\r\n",
        "Facebook ,WhatsApp Messenger , Instagram ,Messenger – Text and Video Chat for Free (Apps pertenecientes a Facebook)\r\n",
        "\r\n",
        "Skype - free IM & video calls (pertenece a Microsoft)\r\n",
        "\r\n",
        "Subway Surfers (pertenece a SYBO GAMES)\r\n",
        "\r\n",
        "La razon por la que las aplicaciones de google tienen mas descargas que el resto es porque vienen preinstaladas en todos los sistemas android.\r\n"
      ]
    },
    {
      "cell_type": "code",
      "metadata": {
        "id": "lkl-cZH_D142"
      },
      "source": [
        "#Precio promedio de las apps en cada categoria\r\n",
        "fig = plt.figure(figsize=(16,8)) \r\n",
        "df2.groupby('Category').mean().sort_values(by='Price',ascending='True')['Price'].plot(kind='bar',title='Precio Promedio por categoria', fontsize=10)\r\n",
        "plt.ylabel('Precio promedio - USD', fontsize=15) \r\n",
        "plt.xlabel('Categoria',  fontsize=15)"
      ],
      "execution_count": null,
      "outputs": []
    },
    {
      "cell_type": "code",
      "metadata": {
        "colab": {
          "base_uri": "https://localhost:8080/"
        },
        "id": "WUkPoeZbExt4",
        "outputId": "d755c679-6027-475b-dbc2-a227e968f323"
      },
      "source": [
        "#Tamaño promedio de las aplicaciones\r\n",
        "print(\"Mean size \" + str(df2[\"Size\"].mean()/(1024*1024)) + \" Mb\") #converting in MB\r\n",
        "print(\"Heaviest app size \" + str(df2[\"Size\"].max()/(1024*1024)) + \" Mb\") #converting in MB\r\n",
        "print(\"Smalles app size \" + str(df2[\"Size\"].min()/(1024*1024)) + \" Mb\") #converting in MB"
      ],
      "execution_count": 30,
      "outputs": [
        {
          "output_type": "stream",
          "text": [
            "Mean size 19.47081493838783 Mb\n",
            "Heaviest app size 95.367431640625 Mb\n",
            "Smalles app size 0.008106231689453125 Mb\n"
          ],
          "name": "stdout"
        }
      ]
    },
    {
      "cell_type": "code",
      "metadata": {
        "id": "NkpcsnZ_FBJv"
      },
      "source": [
        "#Numero de descargas por categoria\r\n",
        "fig = plt.figure(figsize=(16,8)) \r\n",
        "df2.groupby('Category').sum().sort_values(by='Installs',ascending='False')['Installs'].plot(kind='bar',title='Descargas por categoria', fontsize=10)\r\n",
        "plt.ylabel('Numero de descargas', fontsize=15) "
      ],
      "execution_count": null,
      "outputs": []
    },
    {
      "cell_type": "code",
      "metadata": {
        "id": "vYtY2W4aGHM6"
      },
      "source": [
        "#Porcentaje de apps pagas y gratis\r\n",
        "\r\n",
        "df3= df2.copy()\r\n",
        "def is_free(price):\r\n",
        "    if price > 0:\r\n",
        "        return 1\r\n",
        "    else:\r\n",
        "        return 0\r\n",
        "df3[\"is_free\"] = df3[\"Price\"].apply(lambda x: int(is_free(x))) \r\n",
        "fig = plt.figure(figsize=(16,8)) \r\n",
        "labels = ['0 = Free','1 = Paid']\r\n",
        "sizes = df3['is_free'].value_counts(sort = True)\r\n",
        "plt.pie(sizes,labels=labels,autopct='%1.1f%%', shadow=True,textprops={'fontsize': 16})\r\n",
        "plt.title('Apps Gratis vs Pagas',size = 20)\r\n",
        "plt.legend()\r\n",
        "plt.show()"
      ],
      "execution_count": null,
      "outputs": []
    },
    {
      "cell_type": "code",
      "metadata": {
        "id": "5D6EY-xxJZSG"
      },
      "source": [
        "#vamos a observar la distribucion de la variable rating con un histograma\r\n",
        "fig = plt.figure(figsize=(16,8)) \r\n",
        "plt.hist(df2['Rating'],edgecolor = 'black', log=True)\r\n",
        "plt.title(\"Distribucion del campo Rating\", fontsize=15)\r\n",
        "plt.xlabel('Rating', fontsize=15)\r\n",
        "plt.tight_layout()\r\n",
        "plt.legend()"
      ],
      "execution_count": null,
      "outputs": []
    },
    {
      "cell_type": "code",
      "metadata": {
        "id": "b_jhDtY0J0pr"
      },
      "source": [
        "#tambien vamos a observar la distribucion de los precios\r\n",
        "fig = plt.figure(figsize=(16,8)) \r\n",
        "plt.hist(df2['Price'],edgecolor = 'black', log=True)\r\n",
        "plt.title(\"Distribucion del campo Price\",  fontsize=15)\r\n",
        "plt.xlabel('Price',  fontsize=15)\r\n",
        "plt.tight_layout()\r\n",
        "plt.legend()"
      ],
      "execution_count": null,
      "outputs": []
    },
    {
      "cell_type": "code",
      "metadata": {
        "id": "g-48dpv0S_V8"
      },
      "source": [
        "#mayor cantidad de reviews\r\n",
        "most_no_of_reviews = df2.groupby('App')[['Reviews']].mean().sort_values('Reviews', ascending=False).head(10)\r\n",
        "\r\n",
        "sns.barplot(most_no_of_reviews.index, most_no_of_reviews.Reviews)\r\n",
        "\r\n",
        "plt.title('Top 10 Apps con mas reviews', fontsize=12)\r\n",
        "plt.xticks(rotation=90, fontsize=12);\r\n",
        "plt.ylabel('Reviews', fontsize=12);\r\n",
        "plt.xlabel('Categoria', fontsize=12);"
      ],
      "execution_count": null,
      "outputs": []
    },
    {
      "cell_type": "markdown",
      "metadata": {
        "id": "Hz4_ak2tMW3p"
      },
      "source": [
        "# Feature engineering - vamos a crear una columna que asocia descargas y precio\r\n",
        "\r\n"
      ]
    },
    {
      "cell_type": "code",
      "metadata": {
        "id": "dhzy5Xm6Ma1X"
      },
      "source": [
        "\r\n",
        "df_paid_apps = df2[df2['Price']>0]\r\n",
        "df_paid_apps[\"Ganancia\"] = df_paid_apps[\"Installs\"] * df_paid_apps[\"Price\"]\r\n",
        "#histograma de las aplicaciones una vez eliminadas las gratis\r\n",
        "fig = plt.figure(figsize=(16,8)) \r\n",
        "plt.hist(df_paid_apps['Price'],edgecolor = 'black', log=True)\r\n",
        "median_age = df_paid_apps['Price'].median()\r\n",
        "plt.title(\"Precio de los apps\")\r\n",
        "plt.xlabel('Price')\r\n",
        "plt.ylabel('Count')\r\n",
        "plt.tight_layout()\r\n",
        "plt.legend()"
      ],
      "execution_count": null,
      "outputs": []
    },
    {
      "cell_type": "code",
      "metadata": {
        "colab": {
          "base_uri": "https://localhost:8080/",
          "height": 623
        },
        "id": "kaZ_C0mpOtpw",
        "outputId": "b182a0d0-d1e8-4259-ed11-0b9703e27c6a"
      },
      "source": [
        "#apps paga con mas ganancia\r\n",
        "df_paid_apps.sort_values(by=['Ganancia'])"
      ],
      "execution_count": 35,
      "outputs": [
        {
          "output_type": "execute_result",
          "data": {
            "text/html": [
              "<div>\n",
              "<style scoped>\n",
              "    .dataframe tbody tr th:only-of-type {\n",
              "        vertical-align: middle;\n",
              "    }\n",
              "\n",
              "    .dataframe tbody tr th {\n",
              "        vertical-align: top;\n",
              "    }\n",
              "\n",
              "    .dataframe thead th {\n",
              "        text-align: right;\n",
              "    }\n",
              "</style>\n",
              "<table border=\"1\" class=\"dataframe\">\n",
              "  <thead>\n",
              "    <tr style=\"text-align: right;\">\n",
              "      <th></th>\n",
              "      <th>App</th>\n",
              "      <th>Category</th>\n",
              "      <th>Rating</th>\n",
              "      <th>Reviews</th>\n",
              "      <th>Size</th>\n",
              "      <th>Installs</th>\n",
              "      <th>Type</th>\n",
              "      <th>Price</th>\n",
              "      <th>Content Rating</th>\n",
              "      <th>Genres</th>\n",
              "      <th>Last Updated</th>\n",
              "      <th>Current Ver</th>\n",
              "      <th>Android Ver</th>\n",
              "      <th>Ganancia</th>\n",
              "    </tr>\n",
              "  </thead>\n",
              "  <tbody>\n",
              "    <tr>\n",
              "      <th>6692</th>\n",
              "      <td>cronometra-br</td>\n",
              "      <td>PRODUCTIVITY</td>\n",
              "      <td>4.193338</td>\n",
              "      <td>0</td>\n",
              "      <td>5400000.0</td>\n",
              "      <td>0</td>\n",
              "      <td>Paid</td>\n",
              "      <td>154.99</td>\n",
              "      <td>Everyone</td>\n",
              "      <td>Productivity</td>\n",
              "      <td>November 24, 2017</td>\n",
              "      <td>1.0.0</td>\n",
              "      <td>4.1 and up</td>\n",
              "      <td>0.0</td>\n",
              "    </tr>\n",
              "    <tr>\n",
              "      <th>5945</th>\n",
              "      <td>Ain Arabic Kids Alif Ba ta</td>\n",
              "      <td>FAMILY</td>\n",
              "      <td>4.193338</td>\n",
              "      <td>0</td>\n",
              "      <td>33000000.0</td>\n",
              "      <td>0</td>\n",
              "      <td>Paid</td>\n",
              "      <td>2.99</td>\n",
              "      <td>Everyone</td>\n",
              "      <td>Education</td>\n",
              "      <td>April 15, 2016</td>\n",
              "      <td>1.0</td>\n",
              "      <td>3.0 and up</td>\n",
              "      <td>0.0</td>\n",
              "    </tr>\n",
              "    <tr>\n",
              "      <th>5486</th>\n",
              "      <td>AP Series Solution Pro</td>\n",
              "      <td>FAMILY</td>\n",
              "      <td>4.193338</td>\n",
              "      <td>0</td>\n",
              "      <td>7400000.0</td>\n",
              "      <td>0</td>\n",
              "      <td>Paid</td>\n",
              "      <td>1.99</td>\n",
              "      <td>Everyone</td>\n",
              "      <td>Education</td>\n",
              "      <td>July 30, 2017</td>\n",
              "      <td>1.3</td>\n",
              "      <td>4.0 and up</td>\n",
              "      <td>0.0</td>\n",
              "    </tr>\n",
              "    <tr>\n",
              "      <th>9719</th>\n",
              "      <td>EP Cook Book</td>\n",
              "      <td>MEDICAL</td>\n",
              "      <td>4.193338</td>\n",
              "      <td>0</td>\n",
              "      <td>3200000.0</td>\n",
              "      <td>0</td>\n",
              "      <td>Paid</td>\n",
              "      <td>200.00</td>\n",
              "      <td>Everyone</td>\n",
              "      <td>Medical</td>\n",
              "      <td>July 26, 2015</td>\n",
              "      <td>1.0</td>\n",
              "      <td>3.0 and up</td>\n",
              "      <td>0.0</td>\n",
              "    </tr>\n",
              "    <tr>\n",
              "      <th>9337</th>\n",
              "      <td>EG | Explore Folegandros</td>\n",
              "      <td>TRAVEL_AND_LOCAL</td>\n",
              "      <td>4.193338</td>\n",
              "      <td>0</td>\n",
              "      <td>56000000.0</td>\n",
              "      <td>0</td>\n",
              "      <td>Paid</td>\n",
              "      <td>3.99</td>\n",
              "      <td>Everyone</td>\n",
              "      <td>Travel &amp; Local</td>\n",
              "      <td>January 22, 2017</td>\n",
              "      <td>1.1.1</td>\n",
              "      <td>4.1 and up</td>\n",
              "      <td>0.0</td>\n",
              "    </tr>\n",
              "    <tr>\n",
              "      <th>...</th>\n",
              "      <td>...</td>\n",
              "      <td>...</td>\n",
              "      <td>...</td>\n",
              "      <td>...</td>\n",
              "      <td>...</td>\n",
              "      <td>...</td>\n",
              "      <td>...</td>\n",
              "      <td>...</td>\n",
              "      <td>...</td>\n",
              "      <td>...</td>\n",
              "      <td>...</td>\n",
              "      <td>...</td>\n",
              "      <td>...</td>\n",
              "      <td>...</td>\n",
              "    </tr>\n",
              "    <tr>\n",
              "      <th>7417</th>\n",
              "      <td>Grand Theft Auto: San Andreas</td>\n",
              "      <td>GAME</td>\n",
              "      <td>4.400000</td>\n",
              "      <td>348962</td>\n",
              "      <td>26000000.0</td>\n",
              "      <td>1000000</td>\n",
              "      <td>Paid</td>\n",
              "      <td>6.99</td>\n",
              "      <td>Mature 17+</td>\n",
              "      <td>Action</td>\n",
              "      <td>March 21, 2015</td>\n",
              "      <td>1.08</td>\n",
              "      <td>3.0 and up</td>\n",
              "      <td>6990000.0</td>\n",
              "    </tr>\n",
              "    <tr>\n",
              "      <th>4034</th>\n",
              "      <td>Hitman Sniper</td>\n",
              "      <td>GAME</td>\n",
              "      <td>4.600000</td>\n",
              "      <td>408292</td>\n",
              "      <td>29000000.0</td>\n",
              "      <td>10000000</td>\n",
              "      <td>Paid</td>\n",
              "      <td>0.99</td>\n",
              "      <td>Mature 17+</td>\n",
              "      <td>Action</td>\n",
              "      <td>July 12, 2018</td>\n",
              "      <td>1.7.110758</td>\n",
              "      <td>4.1 and up</td>\n",
              "      <td>9900000.0</td>\n",
              "    </tr>\n",
              "    <tr>\n",
              "      <th>5356</th>\n",
              "      <td>I Am Rich Premium</td>\n",
              "      <td>FINANCE</td>\n",
              "      <td>4.100000</td>\n",
              "      <td>1867</td>\n",
              "      <td>4700000.0</td>\n",
              "      <td>50000</td>\n",
              "      <td>Paid</td>\n",
              "      <td>399.99</td>\n",
              "      <td>Everyone</td>\n",
              "      <td>Finance</td>\n",
              "      <td>November 12, 2017</td>\n",
              "      <td>1.6</td>\n",
              "      <td>4.0 and up</td>\n",
              "      <td>19999500.0</td>\n",
              "    </tr>\n",
              "    <tr>\n",
              "      <th>5351</th>\n",
              "      <td>I am rich</td>\n",
              "      <td>LIFESTYLE</td>\n",
              "      <td>3.800000</td>\n",
              "      <td>3547</td>\n",
              "      <td>1800000.0</td>\n",
              "      <td>100000</td>\n",
              "      <td>Paid</td>\n",
              "      <td>399.99</td>\n",
              "      <td>Everyone</td>\n",
              "      <td>Lifestyle</td>\n",
              "      <td>January 12, 2018</td>\n",
              "      <td>2.0</td>\n",
              "      <td>4.0.3 and up</td>\n",
              "      <td>39999000.0</td>\n",
              "    </tr>\n",
              "    <tr>\n",
              "      <th>4347</th>\n",
              "      <td>Minecraft</td>\n",
              "      <td>FAMILY</td>\n",
              "      <td>4.500000</td>\n",
              "      <td>2375336</td>\n",
              "      <td>NaN</td>\n",
              "      <td>10000000</td>\n",
              "      <td>Paid</td>\n",
              "      <td>6.99</td>\n",
              "      <td>Everyone 10+</td>\n",
              "      <td>Arcade;Action &amp; Adventure</td>\n",
              "      <td>July 24, 2018</td>\n",
              "      <td>1.5.2.1</td>\n",
              "      <td>Varies with device</td>\n",
              "      <td>69900000.0</td>\n",
              "    </tr>\n",
              "  </tbody>\n",
              "</table>\n",
              "<p>751 rows × 14 columns</p>\n",
              "</div>"
            ],
            "text/plain": [
              "                                App  ...    Ganancia\n",
              "6692                  cronometra-br  ...         0.0\n",
              "5945     Ain Arabic Kids Alif Ba ta  ...         0.0\n",
              "5486         AP Series Solution Pro  ...         0.0\n",
              "9719                   EP Cook Book  ...         0.0\n",
              "9337       EG | Explore Folegandros  ...         0.0\n",
              "...                             ...  ...         ...\n",
              "7417  Grand Theft Auto: San Andreas  ...   6990000.0\n",
              "4034                  Hitman Sniper  ...   9900000.0\n",
              "5356              I Am Rich Premium  ...  19999500.0\n",
              "5351                      I am rich  ...  39999000.0\n",
              "4347                      Minecraft  ...  69900000.0\n",
              "\n",
              "[751 rows x 14 columns]"
            ]
          },
          "metadata": {
            "tags": []
          },
          "execution_count": 35
        }
      ]
    },
    {
      "cell_type": "markdown",
      "metadata": {
        "id": "4wP4u-Z1QjAo"
      },
      "source": [
        "la app paga con mayor ganancia es minecraft con 69900000.0 usd."
      ]
    },
    {
      "cell_type": "code",
      "metadata": {
        "colab": {
          "base_uri": "https://localhost:8080/",
          "height": 645
        },
        "id": "lS7P7iVWNxbK",
        "outputId": "fcc1bc76-8dc8-4487-e863-f0ad51110145"
      },
      "source": [
        "#ganancia por categoria\r\n",
        "fig = plt.figure(figsize=(16,8)) \r\n",
        "df_paid_apps.groupby('Category').sum().sort_values(by='Ganancia',ascending='False')['Ganancia'].plot(kind='bar',title='Ganancia promedio por categoria', fontsize=10)\r\n",
        "plt.ylabel('Ganancia de descargas', fontsize=15)"
      ],
      "execution_count": 37,
      "outputs": [
        {
          "output_type": "execute_result",
          "data": {
            "text/plain": [
              "Text(0, 0.5, 'Ganancia de descargas')"
            ]
          },
          "metadata": {
            "tags": []
          },
          "execution_count": 37
        },
        {
          "output_type": "display_data",
          "data": {
            "image/png": "[encoded data removed]",
            "text/plain": [
              "<Figure size 1152x576 with 1 Axes>"
            ]
          },
          "metadata": {
            "tags": [],
            "needs_background": "light"
          }
        }
      ]
    },
    {
      "cell_type": "code",
      "metadata": {
        "id": "iohvIEhiX6td"
      },
      "source": [
        "#Grafico de correlacion entre los features del dataset\r\n",
        "df3 = df2\r\n",
        "df3[\"Type\"] = df3[\"Type\"].map({\"Free\": 0, \"Paid\":1})\r\n",
        "sns.heatmap(df3.corr(),annot=True,cmap='RdYlGn',linewidths=0.2,annot_kws={'size':12})\r\n",
        "fig=plt.gcf()\r\n",
        "fig.set_size_inches(12,8)\r\n",
        "plt.xticks(fontsize=10)\r\n",
        "plt.yticks(fontsize=10)\r\n",
        "plt.show()"
      ],
      "execution_count": null,
      "outputs": []
    },
    {
      "cell_type": "markdown",
      "metadata": {
        "id": "lA9iI3szX9aY"
      },
      "source": [
        "Se observa que el numero de descargas tiene una alta correlacion de 0,64 con el numero de reviews lo cual era predecible. \r\n",
        "El tipo(gratis o paga) esta  relacionado positivamente con el precio de forma que cuando el tipo se convierte en 1(pago) el precio aumenta.\r\n"
      ]
    },
    {
      "cell_type": "markdown",
      "metadata": {
        "id": "QY1iPzdCOBxl"
      },
      "source": [
        "# Machine learning modeling"
      ]
    },
    {
      "cell_type": "markdown",
      "metadata": {
        "id": "TgHvH0rHUlGO"
      },
      "source": [
        "\r\n",
        "## #Predecir el rating de una aplicacion usando regresion linear"
      ]
    },
    {
      "cell_type": "code",
      "metadata": {
        "id": "kDI4_H_YOUHP"
      },
      "source": [
        "#funciones \r\n",
        "def print_metrics(y, y_predict):\r\n",
        "    print('MSE: '+ str(metrics.mean_squared_error(y,y_predict)))\r\n",
        "    print('MAE: '+ str(metrics.mean_absolute_error(y,y_predict)))\r\n",
        "    print ('MSLE: '+ str(metrics.mean_squared_log_error(y,y_predict)))\r\n",
        "\r\n",
        "def reg_plotting(y, y_predict, title):\r\n",
        "    plt.figure(figsize=(12,8))\r\n",
        "    sns.regplot(y_predict ,y,color='red')\r\n",
        "    plt.legend()\r\n",
        "    plt.title(title)\r\n",
        "    plt.xlabel('Predicted Ratings')\r\n",
        "    plt.ylabel('Ratings')\r\n",
        "    plt.show()"
      ],
      "execution_count": 14,
      "outputs": []
    },
    {
      "cell_type": "code",
      "metadata": {
        "colab": {
          "base_uri": "https://localhost:8080/"
        },
        "id": "0TYAjZpXUqcQ",
        "outputId": "369fabd0-7d54-4fc2-850c-1b7449d0edce"
      },
      "source": [
        "from sklearn.preprocessing import StandardScaler\r\n",
        "from sklearn.model_selection import train_test_split\r\n",
        "\r\n",
        "X=df2[[\"Reviews\",\"Price\"]]\r\n",
        "y=df2.Rating\r\n",
        "\r\n",
        "X_train,X_test,y_train,y_test= train_test_split(X,y,random_state=42)\r\n",
        "\r\n",
        "# se pasan los features a la misma escala\r\n",
        "scaler=StandardScaler()\r\n",
        "X= scaler.fit_transform(X)\r\n",
        "\r\n",
        "from sklearn.linear_model import LinearRegression\r\n",
        "lin_r= LinearRegression()\r\n",
        "model= lin_r.fit(X_train,y_train)\r\n",
        "\r\n",
        "rating= model.predict(np.array([[1000,3]]))\r\n",
        "print(\"Predicted rating is:\",rating)"
      ],
      "execution_count": 16,
      "outputs": [
        {
          "output_type": "stream",
          "text": [
            "Predicted rating is: [4.16738455]\n"
          ],
          "name": "stdout"
        }
      ]
    },
    {
      "cell_type": "code",
      "metadata": {
        "colab": {
          "base_uri": "https://localhost:8080/"
        },
        "id": "jXTovuh0WE_S",
        "outputId": "5d790424-bdbc-4804-b1c5-b8ac9236b420"
      },
      "source": [
        "y=model.intercept_ +(1000*model.coef_[0]+2*model.coef_[1])\r\n",
        "print(\"Rating is:\",y)"
      ],
      "execution_count": 17,
      "outputs": [
        {
          "output_type": "stream",
          "text": [
            "Rating is: 4.168012452372769\n"
          ],
          "name": "stdout"
        }
      ]
    },
    {
      "cell_type": "code",
      "metadata": {
        "colab": {
          "base_uri": "https://localhost:8080/"
        },
        "id": "YYvS33zeWLAL",
        "outputId": "53860afa-7357-4e64-bd14-54c2adf9e681"
      },
      "source": [
        "pred= model.predict(X_test)\r\n",
        "pred"
      ],
      "execution_count": 18,
      "outputs": [
        {
          "output_type": "execute_result",
          "data": {
            "text/plain": [
              "array([4.16925362, 4.16929188, 4.16925104, ..., 4.17373128, 4.16925394,\n",
              "       4.16925037])"
            ]
          },
          "metadata": {
            "tags": []
          },
          "execution_count": 18
        }
      ]
    },
    {
      "cell_type": "code",
      "metadata": {
        "colab": {
          "base_uri": "https://localhost:8080/"
        },
        "id": "kVixEJSmWQU_",
        "outputId": "72711d68-ce68-4456-db4c-ae45de24c973"
      },
      "source": [
        "#test\r\n",
        "from sklearn.metrics import mean_squared_error\r\n",
        "print_metrics(y_test, pred)"
      ],
      "execution_count": 19,
      "outputs": [
        {
          "output_type": "stream",
          "text": [
            "MSE: 0.23787500493119831\n",
            "MAE: 0.3293894837717997\n",
            "MSLE: 0.011338780869685464\n"
          ],
          "name": "stdout"
        }
      ]
    },
    {
      "cell_type": "code",
      "metadata": {
        "colab": {
          "base_uri": "https://localhost:8080/",
          "height": 525
        },
        "id": "5zNJyED0Po8l",
        "outputId": "7ef18830-c889-4e3e-c111-1fb79b1d9f9b"
      },
      "source": [
        "#test\r\n",
        "reg_plotting(y_test, pred, 'Linear Regression')"
      ],
      "execution_count": 20,
      "outputs": [
        {
          "output_type": "stream",
          "text": [
            "No handles with labels found to put in legend.\n"
          ],
          "name": "stderr"
        },
        {
          "output_type": "display_data",
          "data": {
            "image/png": "[encoded data removed]",
            "text/plain": [
              "<Figure size 864x576 with 1 Axes>"
            ]
          },
          "metadata": {
            "tags": [],
            "needs_background": "light"
          }
        }
      ]
    },
    {
      "cell_type": "markdown",
      "metadata": {
        "id": "uZ1kLaZ9RBaM"
      },
      "source": [
        "### Modelado con SVR"
      ]
    },
    {
      "cell_type": "code",
      "metadata": {
        "id": "JZjccrM_REpr"
      },
      "source": [
        "from sklearn.svm import SVR\r\n",
        "\r\n",
        "svr = SVR()\r\n",
        "svr.fit(X_train, y_train)\r\n",
        "svr_predict = svr.predict(X_test)"
      ],
      "execution_count": 21,
      "outputs": []
    },
    {
      "cell_type": "code",
      "metadata": {
        "colab": {
          "base_uri": "https://localhost:8080/"
        },
        "id": "VzW3TSF5RL7u",
        "outputId": "6a809a9d-64a0-47c6-ed83-5f1b579824bd"
      },
      "source": [
        "svr_predict"
      ],
      "execution_count": 22,
      "outputs": [
        {
          "output_type": "execute_result",
          "data": {
            "text/plain": [
              "array([4.20021102, 4.20184999, 4.20010021, ..., 4.3493323 , 4.20022487,\n",
              "       4.20007173])"
            ]
          },
          "metadata": {
            "tags": []
          },
          "execution_count": 22
        }
      ]
    },
    {
      "cell_type": "code",
      "metadata": {
        "colab": {
          "base_uri": "https://localhost:8080/"
        },
        "id": "1SQiiWXeRcUc",
        "outputId": "fa1660ed-007d-4410-83b8-2cdc725f48c9"
      },
      "source": [
        "#test\r\n",
        "print_metrics(y_test, svr_predict)"
      ],
      "execution_count": 23,
      "outputs": [
        {
          "output_type": "stream",
          "text": [
            "MSE: 0.23291639139573903\n",
            "MAE: 0.31175351722084654\n",
            "MSLE: 0.01124414135190453\n"
          ],
          "name": "stdout"
        }
      ]
    },
    {
      "cell_type": "code",
      "metadata": {
        "colab": {
          "base_uri": "https://localhost:8080/",
          "height": 525
        },
        "id": "wtoVBEmORT-Z",
        "outputId": "78a15920-e912-4cf8-b532-40200289ae15"
      },
      "source": [
        "#test\r\n",
        "reg_plotting(y_test, svr_predict, 'SVR')"
      ],
      "execution_count": 24,
      "outputs": [
        {
          "output_type": "stream",
          "text": [
            "No handles with labels found to put in legend.\n"
          ],
          "name": "stderr"
        },
        {
          "output_type": "display_data",
          "data": {
            "image/png": "[encoded data removed]",
            "text/plain": [
              "<Figure size 864x576 with 1 Axes>"
            ]
          },
          "metadata": {
            "tags": [],
            "needs_background": "light"
          }
        }
      ]
    },
    {
      "cell_type": "markdown",
      "metadata": {
        "id": "_lrZNP6nRkJD"
      },
      "source": [
        "### Modelado con Random Forest Regressor"
      ]
    },
    {
      "cell_type": "code",
      "metadata": {
        "id": "j1nDMUyYRsUS"
      },
      "source": [
        "from sklearn.ensemble import RandomForestRegressor\r\n",
        "\r\n",
        "rand_forest = RandomForestRegressor(n_jobs=-1)\r\n",
        "rand_forest.fit(X_train, y_train)\r\n",
        "rand_forest_predict = rand_forest.predict(X_test)"
      ],
      "execution_count": 25,
      "outputs": []
    },
    {
      "cell_type": "code",
      "metadata": {
        "colab": {
          "base_uri": "https://localhost:8080/"
        },
        "id": "NJyGMJiOSkz0",
        "outputId": "8f8bc461-1443-4b48-eff0-2b61f05e73d9"
      },
      "source": [
        "#test\r\n",
        "print_metrics(y_test, rand_forest_predict)"
      ],
      "execution_count": 26,
      "outputs": [
        {
          "output_type": "stream",
          "text": [
            "MSE: 0.2738801977080416\n",
            "MAE: 0.3609321565013424\n",
            "MSLE: 0.012726982884617518\n"
          ],
          "name": "stdout"
        }
      ]
    },
    {
      "cell_type": "code",
      "metadata": {
        "colab": {
          "base_uri": "https://localhost:8080/",
          "height": 525
        },
        "id": "XiRXIc5zSmnq",
        "outputId": "810e2dc7-6c21-4a5a-8b86-c4631187606e"
      },
      "source": [
        "#test\r\n",
        "reg_plotting(y_test, rand_forest_predict, 'Random Forest Regressor')"
      ],
      "execution_count": 27,
      "outputs": [
        {
          "output_type": "stream",
          "text": [
            "No handles with labels found to put in legend.\n"
          ],
          "name": "stderr"
        },
        {
          "output_type": "display_data",
          "data": {
            "image/png": "[encoded data removed]",
            "text/plain": [
              "<Figure size 864x576 with 1 Axes>"
            ]
          },
          "metadata": {
            "tags": [],
            "needs_background": "light"
          }
        }
      ]
    },
    {
      "cell_type": "markdown",
      "metadata": {
        "id": "4jAUhzrXTl7E"
      },
      "source": [
        "voting regressor"
      ]
    },
    {
      "cell_type": "code",
      "metadata": {
        "id": "lzLskox9Tn8h"
      },
      "source": [
        "from sklearn.ensemble import VotingRegressor\r\n",
        "voting_reg = VotingRegressor(estimators=[('lin', lin_r), ('svr', svr), ('rf', rand_forest)])\r\n",
        "voting_reg.fit(X_train, y_train)\r\n",
        "voting_reg_predict = voting_reg.predict(X_test)"
      ],
      "execution_count": 29,
      "outputs": []
    },
    {
      "cell_type": "code",
      "metadata": {
        "colab": {
          "base_uri": "https://localhost:8080/"
        },
        "id": "_vaNq0MeT_so",
        "outputId": "af082fa9-edfe-4c93-8340-702c75693f38"
      },
      "source": [
        "print_metrics(y_test, voting_reg_predict)"
      ],
      "execution_count": 30,
      "outputs": [
        {
          "output_type": "stream",
          "text": [
            "MSE: 0.23197487867257283\n",
            "MAE: 0.32092381185418134\n",
            "MSLE: 0.011109032233441143\n"
          ],
          "name": "stdout"
        }
      ]
    },
    {
      "cell_type": "code",
      "metadata": {
        "colab": {
          "base_uri": "https://localhost:8080/",
          "height": 525
        },
        "id": "SpbCn79yUC4V",
        "outputId": "557d6f5e-0bf2-47a9-c709-719ef70ae54c"
      },
      "source": [
        "reg_plotting(y_test, voting_reg_predict, 'Voting Classifier')"
      ],
      "execution_count": 31,
      "outputs": [
        {
          "output_type": "stream",
          "text": [
            "No handles with labels found to put in legend.\n"
          ],
          "name": "stderr"
        },
        {
          "output_type": "display_data",
          "data": {
            "image/png": "[encoded data removed]",
            "text/plain": [
              "<Figure size 864x576 with 1 Axes>"
            ]
          },
          "metadata": {
            "tags": [],
            "needs_background": "light"
          }
        }
      ]
    }
  ]
}