{
  "nbformat": 4,
  "nbformat_minor": 0,
  "metadata": {
    "colab": {
      "name": "tpfinal_pre.ipynb",
      "provenance": [],
      "collapsed_sections": [],
      "authorship_tag": "ABX9TyPRB4FxWpn9y8AwVgKarKxF",
      "include_colab_link": true
    },
    "kernelspec": {
      "name": "python3",
      "display_name": "Python 3"
    }
  },
  "cells": [
    {
      "cell_type": "markdown",
      "metadata": {
        "id": "view-in-github",
        "colab_type": "text"
      },
      "source": [
        "<a href=\"https://colab.research.google.com/github/joseemaro/bdm_datasets/blob/main/tpfinal_pre.ipynb\" target=\"_parent\"><img src=\"https://colab.research.google.com/assets/colab-badge.svg\" alt=\"Open In Colab\"/></a>"
      ]
    },
    {
      "cell_type": "markdown",
      "metadata": {
        "id": "H_QtWfCy8Iia"
      },
      "source": [
        "## SE IMPORTAN LAS LIBRERIAS Y LOS DATASETS."
      ]
    },
    {
      "cell_type": "code",
      "metadata": {
        "id": "SlVaMP9h743U"
      },
      "source": [
        "!wget https://raw.githubusercontent.com/joseemaro/bdm_datasets/main/googleplaystore.csv\r\n",
        "\r\n",
        "!wget https://raw.githubusercontent.com/joseemaro/bdm_datasets/main/googleplaystore_user_reviews.csv\r\n",
        "\r\n",
        "import numpy as np # algebra linear\r\n",
        "import pandas as pd # procesamiento de datos, CSV file \r\n",
        "import matplotlib.pyplot as plt\r\n",
        "%matplotlib inline\r\n",
        "import seaborn as sns\r\n",
        "import plotly.offline as py\r\n",
        "py.init_notebook_mode(connected=True)\r\n",
        "import plotly.graph_objs as go\r\n",
        "import warnings\r\n",
        "warnings.filterwarnings('ignore')\r\n",
        "from pylab import rcParams\r\n",
        "# figure size in inches\r\n",
        "%matplotlib inline\r\n",
        "plt.style.use('seaborn-white')"
      ],
      "execution_count": null,
      "outputs": []
    },
    {
      "cell_type": "markdown",
      "metadata": {
        "id": "7zzQWXpi8VQG"
      },
      "source": [
        "## SE LEE EL DATASET CON LOS DATOS DE LAS APLICACIONES"
      ]
    },
    {
      "cell_type": "code",
      "metadata": {
        "id": "m0e8DNX_8aa1"
      },
      "source": [
        "# Lee el archivo\r\n",
        "data = pd.read_csv(\"googleplaystore.csv\", encoding = \"utf-8\") "
      ],
      "execution_count": 18,
      "outputs": []
    },
    {
      "cell_type": "markdown",
      "metadata": {
        "id": "OxbFcXd28mCX"
      },
      "source": [
        "# PREPROCESAMIENTO DE LOS DATOS"
      ]
    },
    {
      "cell_type": "code",
      "metadata": {
        "id": "Vx0K_Go58rP2"
      },
      "source": [
        "#se verifica si hay nan de los registros\r\n",
        "data.isna().sum()"
      ],
      "execution_count": null,
      "outputs": []
    },
    {
      "cell_type": "markdown",
      "metadata": {
        "id": "b7Bag8Bi9Chi"
      },
      "source": [
        "Se observa que el campo rating tiene una gran cantidad de faltantes, mientras que los campos type,content rating, current ver, y android ver tienen pocos faltantes."
      ]
    },
    {
      "cell_type": "code",
      "metadata": {
        "id": "A8t7HFLt9Swr"
      },
      "source": [
        "#se remplaza los nan de rating por la media debido a que son muchos registros\r\n",
        "data['Rating'].fillna((data['Rating'].mean()), inplace=True)\r\n",
        "\r\n",
        "data.isna().sum()"
      ],
      "execution_count": null,
      "outputs": []
    },
    {
      "cell_type": "code",
      "metadata": {
        "id": "6xGRvNDN9jnO"
      },
      "source": [
        "#el resto de los registros con nan al ser una cantidad minima se borran\r\n",
        "df1 = data.dropna()\r\n",
        "\r\n",
        "df1.isna().sum()"
      ],
      "execution_count": null,
      "outputs": []
    },
    {
      "cell_type": "code",
      "metadata": {
        "id": "jKkHo5NV9pND"
      },
      "source": [
        "#SE VERIFICA SI HAY REGISTROS DUPLICADOS\r\n",
        "df1[df1.duplicated(['App'])]"
      ],
      "execution_count": null,
      "outputs": []
    },
    {
      "cell_type": "code",
      "metadata": {
        "id": "6_J3_j8V9z4y"
      },
      "source": [
        "#se eliminan los duplicados basandose en el nombre de la app\r\n",
        "df2 = df1.drop_duplicates(keep='last',subset=['App'])"
      ],
      "execution_count": 23,
      "outputs": []
    },
    {
      "cell_type": "code",
      "metadata": {
        "id": "h8zDWqpn-br8"
      },
      "source": [
        "#campo installs\r\n",
        "#se limpian los caracteres para pasar el campo a entero\r\n",
        "df2.Installs = df2.Installs.str.replace('+' , '')\r\n",
        "df2.Installs = df2.Installs.str.replace(',' , '')"
      ],
      "execution_count": 24,
      "outputs": []
    },
    {
      "cell_type": "code",
      "metadata": {
        "id": "kF80hTzT-4Mj"
      },
      "source": [
        "#se convierte el campo  installs a int\r\n",
        "df2.Installs = df2.Installs.astype('float').astype('int')\r\n",
        "df2['Installs'].unique()"
      ],
      "execution_count": null,
      "outputs": []
    },
    {
      "cell_type": "code",
      "metadata": {
        "id": "-YKUUc82_M-c"
      },
      "source": [
        "#se convierte el campo price a float\r\n",
        "df2['Price'] = df2['Price'].apply(lambda x: float(x.replace(\"$\",\"\")))\r\n",
        "df2['Price'].unique()"
      ],
      "execution_count": null,
      "outputs": []
    },
    {
      "cell_type": "code",
      "metadata": {
        "id": "ImPdCWHT_dkO"
      },
      "source": [
        "#se convierte el conteo de reviews a int\r\n",
        "df2['Reviews']= df2['Reviews'].apply(lambda x: int(x))\r\n",
        "df2['Reviews'].unique()"
      ],
      "execution_count": null,
      "outputs": []
    },
    {
      "cell_type": "code",
      "metadata": {
        "id": "z-GPqZ-LAJrW"
      },
      "source": [
        "#vamos a remplazar el varies with device del campo size por nan\r\n",
        "df2['Size'].replace('Varies with device',np.nan,inplace=True)\r\n",
        "#se convierte size a float\r\n",
        "df2['Size']=df2['Size'].str.replace('M','e+6').str.replace('k','e+3').str.replace('Varies with device','0').astype('float')\r\n",
        "df2['Size'].unique()"
      ],
      "execution_count": null,
      "outputs": []
    },
    {
      "cell_type": "markdown",
      "metadata": {
        "id": "ziR-s-L2BHY0"
      },
      "source": [
        "# VISUALIZACION DE DATOS\r\n"
      ]
    },
    {
      "cell_type": "code",
      "metadata": {
        "id": "taUZG4GlBS27"
      },
      "source": [
        "#Numero de aplicaciones por categoria\r\n",
        "\r\n",
        "fig = plt.figure(figsize=(16,8)) \r\n",
        "df2.groupby('Category').count()[\"App\"].sort_values(ascending=False).plot(kind='bar',title='Numero de apps/Categoria', fontsize=10)\r\n",
        "plt.ylabel('Cantidad') "
      ],
      "execution_count": null,
      "outputs": []
    },
    {
      "cell_type": "code",
      "metadata": {
        "id": "IcrO8o9MCOzf"
      },
      "source": [
        "#apps con 1 billon de descargas\r\n",
        "\r\n",
        "dfa = df2.groupby(['Category' ,'App'])['Installs'].sum().reset_index()\r\n",
        "\r\n",
        "dfa = dfa.sort_values('Installs', ascending = False)\r\n",
        "\r\n",
        "dftop = dfa[dfa.Installs == 1000000000 ]\r\n",
        "\r\n",
        "\r\n",
        "dftop.style.set_properties(**{'background-color': 'white',\r\n",
        "                            'color': 'black',\r\n",
        "                            'border-color': 'black'})"
      ],
      "execution_count": null,
      "outputs": []
    },
    {
      "cell_type": "markdown",
      "metadata": {
        "id": "tgB8Y0uHC78F"
      },
      "source": [
        "La lista de apps que tienen mas de 1 billon de descargas muestra a las siguientes aplicaciones:\r\n",
        "Google ,Google Drive, Google Chrome Fast Secure , Google+ ,Google Photos ,Google Play Games ,Google Play Books ,Google News ,Hangouts\r\n",
        "\r\n",
        "Google ,Google Drive, Google Chrome Fast Secure , Google+ ,Google Photos ,Google Play Games ,Google Play Books ,Google News ,Hangouts\r\n",
        "\r\n",
        "Gmail ,Google Street View ,Google Play Movies & TV ,Maps - Navigate & Explore , YouTube (Apps pertenecientes a Google)\r\n",
        "\r\n",
        "Facebook ,WhatsApp Messenger , Instagram ,Messenger – Text and Video Chat for Free (Apps pertenecientes a Facebook)\r\n",
        "\r\n",
        "Skype - free IM & video calls (pertenece a Microsoft)\r\n",
        "\r\n",
        "Subway Surfers (pertenece a SYBO GAMES)\r\n",
        "\r\n",
        "La razon por la que las aplicaciones de google tienen mas descargas que el resto es porque vienen preinstaladas en todos los sistemas android.\r\n"
      ]
    },
    {
      "cell_type": "code",
      "metadata": {
        "id": "lkl-cZH_D142"
      },
      "source": [
        "#Precio promedio de las apps en cada categoria\r\n",
        "fig = plt.figure(figsize=(16,8)) \r\n",
        "df2.groupby('Category').mean().sort_values(by='Price',ascending='False')['Price'].plot(kind='bar',title='Price in USD', fontsize=10)\r\n",
        "plt.ylabel('Precio promedio - USD', fontsize=15) "
      ],
      "execution_count": null,
      "outputs": []
    },
    {
      "cell_type": "code",
      "metadata": {
        "id": "WUkPoeZbExt4"
      },
      "source": [
        "#Tamaño promedio de las aplicaciones\r\n",
        "print(\"Mean size \" + str(df2[\"Size\"].mean()/(1024*1024)) + \" Mb\") #converting in MB\r\n",
        "print(\"Heaviest app size \" + str(df2[\"Size\"].max()/(1024*1024)) + \" Mb\") #converting in MB\r\n",
        "print(\"Smalles app size \" + str(df2[\"Size\"].min()/(1024*1024)) + \" Mb\") #converting in MB"
      ],
      "execution_count": null,
      "outputs": []
    },
    {
      "cell_type": "code",
      "metadata": {
        "id": "NkpcsnZ_FBJv"
      },
      "source": [
        "#Numero de descargas por categoria\r\n",
        "fig = plt.figure(figsize=(16,8)) \r\n",
        "df2.groupby('Category').sum().sort_values(by='Installs',ascending='False')['Installs'].plot(kind='bar',title='Descargas por categoria', fontsize=10)\r\n",
        "plt.ylabel('Numero de descargas', fontsize=15) "
      ],
      "execution_count": null,
      "outputs": []
    },
    {
      "cell_type": "code",
      "metadata": {
        "id": "vYtY2W4aGHM6"
      },
      "source": [
        "#Porcentaje de apps pagas y gratis\r\n",
        "#verificar apps gratis\r\n",
        "df3= df2.copy()\r\n",
        "def is_free(price):\r\n",
        "    if price > 0:\r\n",
        "        return 1\r\n",
        "    else:\r\n",
        "        return 0\r\n",
        "df3[\"is_free\"] = df3[\"Price\"].apply(lambda x: int(is_free(x))) \r\n",
        "fig = plt.figure(figsize=(16,8)) \r\n",
        "labels = ['0 = Free','1 = Paid']\r\n",
        "sizes = df3['is_free'].value_counts(sort = True)\r\n",
        "plt.pie(sizes,labels=labels,autopct='%1.1f%%', shadow=True,textprops={'fontsize': 16})\r\n",
        "plt.title('Apps Gratis vs Pagas',size = 20)\r\n",
        "plt.legend()\r\n",
        "plt.show()"
      ],
      "execution_count": null,
      "outputs": []
    },
    {
      "cell_type": "code",
      "metadata": {
        "id": "5D6EY-xxJZSG"
      },
      "source": [
        "#vamos a observar la distribucion de la variable rating con un histograma\r\n",
        "fig = plt.figure(figsize=(16,8)) \r\n",
        "plt.hist(df2['Rating'],edgecolor = 'black', log=True)\r\n",
        "plt.title(\"Distribucion del campo Rating\", fontsize=15)\r\n",
        "plt.xlabel('Rating', fontsize=15)\r\n",
        "plt.tight_layout()\r\n",
        "plt.legend()"
      ],
      "execution_count": null,
      "outputs": []
    },
    {
      "cell_type": "code",
      "metadata": {
        "id": "b_jhDtY0J0pr"
      },
      "source": [
        "#tambien vamos a observar la distribucion de los precios\r\n",
        "fig = plt.figure(figsize=(16,8)) \r\n",
        "plt.hist(df2['Price'],edgecolor = 'black', log=True)\r\n",
        "plt.title(\"Distribucion del campo Price\",  fontsize=15)\r\n",
        "plt.xlabel('Price',  fontsize=15)\r\n",
        "plt.tight_layout()\r\n",
        "plt.legend()"
      ],
      "execution_count": null,
      "outputs": []
    },
    {
      "cell_type": "code",
      "metadata": {
        "id": "g-48dpv0S_V8"
      },
      "source": [
        "#mayor cantidad de reviews\r\n",
        "most_no_of_reviews = df2.groupby('App')[['Reviews']].mean().sort_values('Reviews', ascending=False).head(10)\r\n",
        "\r\n",
        "sns.barplot(most_no_of_reviews.index, most_no_of_reviews.Reviews)\r\n",
        "\r\n",
        "plt.title('Top 10 Apps con mas reviews')\r\n",
        "plt.xticks(rotation=100);\r\n",
        "plt.ylabel('Reviews');\r\n",
        "plt.xlabel('Category');"
      ],
      "execution_count": null,
      "outputs": []
    },
    {
      "cell_type": "markdown",
      "metadata": {
        "id": "Hz4_ak2tMW3p"
      },
      "source": [
        "# Feature engineering - vamos a crear una columna que asocia descargas y precio\r\n",
        "\r\n"
      ]
    },
    {
      "cell_type": "code",
      "metadata": {
        "id": "dhzy5Xm6Ma1X"
      },
      "source": [
        "\r\n",
        "df_paid_apps = df2[df2['Price']>0]\r\n",
        "df_paid_apps[\"Ganancia\"] = df_paid_apps[\"Installs\"] * df_paid_apps[\"Price\"]\r\n",
        "#histograma de las aplicaciones una vez eliminadas las gratis\r\n",
        "fig = plt.figure(figsize=(16,8)) \r\n",
        "plt.hist(df_paid_apps['Price'],edgecolor = 'black', log=True)\r\n",
        "median_age = df_paid_apps['Price'].median()\r\n",
        "plt.title(\"Precio de los apps\")\r\n",
        "plt.xlabel('Price')\r\n",
        "plt.ylabel('Count')\r\n",
        "plt.tight_layout()\r\n",
        "plt.legend()"
      ],
      "execution_count": null,
      "outputs": []
    },
    {
      "cell_type": "code",
      "metadata": {
        "id": "kaZ_C0mpOtpw"
      },
      "source": [
        "#apps paga con mas ganancia\r\n",
        "df_paid_apps.sort_values(by=['Ganancia'])"
      ],
      "execution_count": null,
      "outputs": []
    },
    {
      "cell_type": "markdown",
      "metadata": {
        "id": "4wP4u-Z1QjAo"
      },
      "source": [
        "la app paga con mayor ganancia es minecraft con 69900000.0 usd."
      ]
    },
    {
      "cell_type": "code",
      "metadata": {
        "id": "lS7P7iVWNxbK"
      },
      "source": [
        "#ganancia por categoria\r\n",
        "fig = plt.figure(figsize=(16,8)) \r\n",
        "df_paid_apps.groupby('Category').sum().sort_values(by='Ganancia',ascending='False')['Ganancia'].plot(kind='bar',title='Ganancia', fontsize=10)\r\n",
        "plt.ylabel('Ganancia de descargas', fontsize=15)"
      ],
      "execution_count": null,
      "outputs": []
    },
    {
      "cell_type": "markdown",
      "metadata": {
        "id": "TgHvH0rHUlGO"
      },
      "source": [
        "\r\n",
        "#Predecir el rating de una aplicacion usando regresion linear"
      ]
    },
    {
      "cell_type": "code",
      "metadata": {
        "colab": {
          "base_uri": "https://localhost:8080/"
        },
        "id": "0TYAjZpXUqcQ",
        "outputId": "47c4b83c-29c1-46d2-bcbd-b3434048c857"
      },
      "source": [
        "from sklearn.preprocessing import StandardScaler\r\n",
        "from sklearn.model_selection import train_test_split\r\n",
        "\r\n",
        "X=df2[[\"Reviews\",\"Price\"]]\r\n",
        "y=df2.Rating\r\n",
        "\r\n",
        "X_train,X_test,y_train,y_test= train_test_split(X,y,random_state=42)\r\n",
        "\r\n",
        "# se pasan los features a la misma escala\r\n",
        "scaler=StandardScaler()\r\n",
        "X= scaler.fit_transform(X)\r\n",
        "\r\n",
        "from sklearn.linear_model import LinearRegression\r\n",
        "lin_r= LinearRegression()\r\n",
        "model= lin_r.fit(X_train,y_train)\r\n",
        "\r\n",
        "rating= model.predict(np.array([[1000,3]]))\r\n",
        "print(\"Predicted rating is:\",rating)"
      ],
      "execution_count": 107,
      "outputs": [
        {
          "output_type": "stream",
          "text": [
            "Predicted rating is: [4.16738455]\n"
          ],
          "name": "stdout"
        }
      ]
    },
    {
      "cell_type": "code",
      "metadata": {
        "colab": {
          "base_uri": "https://localhost:8080/"
        },
        "id": "jXTovuh0WE_S",
        "outputId": "a1590873-6123-434a-ca64-d3307eafb98e"
      },
      "source": [
        "y=model.intercept_ +(1000*model.coef_[0]+2*model.coef_[1])\r\n",
        "print(\"Rating is:\",y)"
      ],
      "execution_count": 108,
      "outputs": [
        {
          "output_type": "stream",
          "text": [
            "Rating is: 4.168012452372769\n"
          ],
          "name": "stdout"
        }
      ]
    },
    {
      "cell_type": "code",
      "metadata": {
        "colab": {
          "base_uri": "https://localhost:8080/"
        },
        "id": "YYvS33zeWLAL",
        "outputId": "7ee0c41f-fd34-4576-ce59-1fcad732784f"
      },
      "source": [
        "pred= model.predict(X_test)\r\n",
        "pred"
      ],
      "execution_count": 109,
      "outputs": [
        {
          "output_type": "execute_result",
          "data": {
            "text/plain": [
              "array([4.16925362, 4.16929188, 4.16925104, ..., 4.17373128, 4.16925394,\n",
              "       4.16925037])"
            ]
          },
          "metadata": {
            "tags": []
          },
          "execution_count": 109
        }
      ]
    },
    {
      "cell_type": "code",
      "metadata": {
        "colab": {
          "base_uri": "https://localhost:8080/"
        },
        "id": "kVixEJSmWQU_",
        "outputId": "f81f480c-ed72-465a-aa28-b8e6e145b550"
      },
      "source": [
        "#test\r\n",
        "from sklearn.metrics import mean_squared_error\r\n",
        "print(\"RMSE: {}\".format(np.sqrt(mean_squared_error(y_test,pred))))"
      ],
      "execution_count": 110,
      "outputs": [
        {
          "output_type": "stream",
          "text": [
            "RMSE: 0.4877243124257784\n"
          ],
          "name": "stdout"
        }
      ]
    }
  ]
}