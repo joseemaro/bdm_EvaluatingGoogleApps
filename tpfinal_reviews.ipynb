{
  "nbformat": 4,
  "nbformat_minor": 0,
  "metadata": {
    "colab": {
      "name": "tpfinal_reviews.ipynb",
      "provenance": [],
      "collapsed_sections": [],
      "authorship_tag": "ABX9TyMY3zg7l2aOHBV+v5UJGPtA",
      "include_colab_link": true
    },
    "kernelspec": {
      "name": "python3",
      "display_name": "Python 3"
    }
  },
  "cells": [
    {
      "cell_type": "markdown",
      "metadata": {
        "id": "view-in-github",
        "colab_type": "text"
      },
      "source": [
        "<a href=\"https://colab.research.google.com/github/joseemaro/bdm_datasets/blob/main/tpfinal_reviews.ipynb\" target=\"_parent\"><img src=\"https://colab.research.google.com/assets/colab-badge.svg\" alt=\"Open In Colab\"/></a>"
      ]
    },
    {
      "cell_type": "code",
      "metadata": {
        "id": "zm0exdwREY3T"
      },
      "source": [
        "!wget https://raw.githubusercontent.com/joseemaro/bdm_datasets/main/googleplaystore_user_reviews.csv\r\n",
        "\r\n",
        "import numpy as np # linear algebra\r\n",
        "import pandas as pd # data processing\r\n",
        "\r\n",
        "# data vizualization \r\n",
        "import matplotlib.pyplot as plt\r\n",
        "import seaborn as sns # used for plot interactive graph.\r\n",
        "import plotly.offline as py\r\n",
        "py.init_notebook_mode(connected=True)\r\n",
        "import plotly.graph_objs as go\r\n",
        "import warnings\r\n",
        "warnings.filterwarnings('ignore')\r\n",
        "from pylab import rcParams\r\n",
        "# figure size in inches\r\n",
        "%matplotlib inline\r\n",
        "plt.style.use('seaborn-white')\r\n",
        "\r\n",
        "# S.A. and w2v\r\n",
        "import re\r\n",
        "import collections\r\n",
        "import gensim\r\n",
        "import nltk\r\n",
        "from nltk.corpus import stopwords\r\n",
        "import plotly.express as px"
      ],
      "execution_count": null,
      "outputs": []
    },
    {
      "cell_type": "code",
      "metadata": {
        "id": "NzyH8-2uEjfN"
      },
      "source": [
        "# Lee el archivo\r\n",
        "data = pd.read_csv(\"googleplaystore_user_reviews.csv\", encoding = \"utf-8\") "
      ],
      "execution_count": 2,
      "outputs": []
    },
    {
      "cell_type": "code",
      "metadata": {
        "id": "MRx1Y0PqEqym"
      },
      "source": [
        "#se borran los registros con nan\r\n",
        "df = data.dropna()"
      ],
      "execution_count": 4,
      "outputs": []
    },
    {
      "cell_type": "code",
      "metadata": {
        "id": "rOkdE8GCE5Qv"
      },
      "source": [
        "#se verifica si hay nan de los registros\r\n",
        "df.isna().sum()"
      ],
      "execution_count": null,
      "outputs": []
    },
    {
      "cell_type": "code",
      "metadata": {
        "id": "IU85-B39FAj5"
      },
      "source": [
        "#cantidad de reviews por cada tipo(positivo,negativo, neutral)\r\n",
        "temp = df.groupby('Sentiment').count()['Translated_Review'].reset_index().sort_values(by='Translated_Review',ascending=False)\r\n",
        "temp.style.background_gradient(cmap='Purples')"
      ],
      "execution_count": null,
      "outputs": []
    },
    {
      "cell_type": "code",
      "metadata": {
        "id": "hhj_JKuCFZZu"
      },
      "source": [
        "#grafico de las reviews por tipo\r\n",
        "plt.figure(figsize=(12,6))\r\n",
        "sns.countplot(x='Sentiment',data=df)"
      ],
      "execution_count": null,
      "outputs": []
    },
    {
      "cell_type": "markdown",
      "metadata": {
        "id": "-zujQfR_F6Ow"
      },
      "source": [
        "## Se comenzara con el analisis de los comentarios de las aplicaciones"
      ]
    },
    {
      "cell_type": "code",
      "metadata": {
        "id": "xQ2jICWDGA4m"
      },
      "source": [
        "nltk.download('stopwords')\r\n",
        "stop_words = stopwords.words(\"english\")"
      ],
      "execution_count": null,
      "outputs": []
    },
    {
      "cell_type": "code",
      "metadata": {
        "id": "8t6cALiOGHnd"
      },
      "source": [
        "split_words = []\r\n",
        "top = []\r\n",
        "for review in df.Translated_Review:\r\n",
        "    top.append(review)"
      ],
      "execution_count": 14,
      "outputs": []
    },
    {
      "cell_type": "code",
      "metadata": {
        "id": "G-r6RuQWGUtE"
      },
      "source": [
        "top = str(top)\r\n",
        "reviews = str(df.Translated_Review)"
      ],
      "execution_count": 18,
      "outputs": []
    },
    {
      "cell_type": "code",
      "metadata": {
        "id": "eySQ02ZrH1GX"
      },
      "source": [
        "wordcount = {}\r\n",
        "for word in reviews.lower().split():\r\n",
        "    word = word.replace(\".\",\"\")\r\n",
        "    word = word.replace(\",\",\"\")\r\n",
        "    word = word.replace(\":\",\"\")\r\n",
        "    word = word.replace(\"\\\"\",\"\")\r\n",
        "    word = word.replace(\"!\",\"\")\r\n",
        "    word = word.replace(\"â€œ\",\"\")\r\n",
        "    word = word.replace(\"â€˜\",\"\")\r\n",
        "    word = word.replace(\"*\",\"\")\r\n",
        "    if word not in stop_words:\r\n",
        "        if word not in wordcount:\r\n",
        "            wordcount[word] = 1\r\n",
        "        else:\r\n",
        "            wordcount[word] += 1"
      ],
      "execution_count": 19,
      "outputs": []
    },
    {
      "cell_type": "code",
      "metadata": {
        "id": "2Ff2WgxEH5cw"
      },
      "source": [
        "word_counter = collections.Counter(wordcount)\r\n",
        "temp = pd.DataFrame(lst, columns = ['Word', 'Count'])\r\n",
        "temp.plot.bar(x='Word',y='Count')"
      ],
      "execution_count": null,
      "outputs": []
    },
    {
      "cell_type": "markdown",
      "metadata": {
        "id": "rG5QTcMvJcMD"
      },
      "source": [
        "## W2V model"
      ]
    },
    {
      "cell_type": "code",
      "metadata": {
        "id": "jW8LC19FJe63"
      },
      "source": [
        "w2v_model = gensim.models.word2vec.Word2Vec(size=300, \r\n",
        "                                            window=7, \r\n",
        "                                            min_count=10, \r\n",
        "                                            workers=8)"
      ],
      "execution_count": 33,
      "outputs": []
    },
    {
      "cell_type": "code",
      "metadata": {
        "id": "CgueOa-LJjs8"
      },
      "source": [
        "%%time\r\n",
        "documents = [_text.split() for _text in df.Translated_Review] "
      ],
      "execution_count": null,
      "outputs": []
    },
    {
      "cell_type": "code",
      "metadata": {
        "id": "nkbqvT1oJoFL"
      },
      "source": [
        "w2v_model.build_vocab(documents)"
      ],
      "execution_count": 35,
      "outputs": []
    },
    {
      "cell_type": "code",
      "metadata": {
        "id": "5I7DmsoGJsFx"
      },
      "source": [
        "words = w2v_model.wv.vocab.keys()\r\n",
        "vocab_size = len(words)\r\n",
        "print(\"Vocab size\", vocab_size)"
      ],
      "execution_count": null,
      "outputs": []
    },
    {
      "cell_type": "code",
      "metadata": {
        "id": "oRmwRj7BJyOZ"
      },
      "source": [
        "%%time\r\n",
        "w2v_model.train(documents, total_examples=len(documents), epochs=8)"
      ],
      "execution_count": null,
      "outputs": []
    },
    {
      "cell_type": "code",
      "metadata": {
        "id": "RNtRTD_sJ4NO"
      },
      "source": [
        "w2v_model.most_similar(\"ok\")"
      ],
      "execution_count": null,
      "outputs": []
    },
    {
      "cell_type": "code",
      "metadata": {
        "id": "n17UzHUDJ_lm"
      },
      "source": [
        "w2v_model.most_similar(\"bad\")"
      ],
      "execution_count": null,
      "outputs": []
    }
  ]
}